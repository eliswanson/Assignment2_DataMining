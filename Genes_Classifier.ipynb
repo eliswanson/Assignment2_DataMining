{
 "cells": [
  {
   "cell_type": "code",
   "execution_count": 465,
   "metadata": {},
   "outputs": [],
   "source": [
    "import pandas as pd\n",
    "import matplotlib.pyplot as plt\n",
    "from pandas.plotting import scatter_matrix"
   ]
  },
  {
   "cell_type": "code",
   "execution_count": 466,
   "metadata": {},
   "outputs": [],
   "source": [
    "import numpy as np\n",
    "from sklearn import tree\n",
    "from sklearn.model_selection import train_test_split\n",
    "from sklearn import preprocessing"
   ]
  },
  {
   "cell_type": "code",
   "execution_count": 467,
   "metadata": {
    "scrolled": true
   },
   "outputs": [
    {
     "data": {
      "text/html": [
       "<div>\n",
       "<style scoped>\n",
       "    .dataframe tbody tr th:only-of-type {\n",
       "        vertical-align: middle;\n",
       "    }\n",
       "\n",
       "    .dataframe tbody tr th {\n",
       "        vertical-align: top;\n",
       "    }\n",
       "\n",
       "    .dataframe thead th {\n",
       "        text-align: right;\n",
       "    }\n",
       "</style>\n",
       "<table border=\"1\" class=\"dataframe\">\n",
       "  <thead>\n",
       "    <tr style=\"text-align: right;\">\n",
       "      <th></th>\n",
       "      <th>GeneID</th>\n",
       "      <th>Essential</th>\n",
       "      <th>Class</th>\n",
       "      <th>Complex</th>\n",
       "      <th>Phenotype</th>\n",
       "      <th>Motif</th>\n",
       "      <th>Chromosome</th>\n",
       "      <th>Function</th>\n",
       "      <th>Localization</th>\n",
       "    </tr>\n",
       "  </thead>\n",
       "  <tbody>\n",
       "    <tr>\n",
       "      <th>0</th>\n",
       "      <td>G234064</td>\n",
       "      <td>Essential</td>\n",
       "      <td>GTP/GDP-exchange factors (GEFs)</td>\n",
       "      <td>Translation complexes</td>\n",
       "      <td>?</td>\n",
       "      <td>PS00824</td>\n",
       "      <td>1</td>\n",
       "      <td>CELLULAR ORGANIZATION (proteins are localized ...</td>\n",
       "      <td>cytoplasm</td>\n",
       "    </tr>\n",
       "    <tr>\n",
       "      <th>1</th>\n",
       "      <td>G234064</td>\n",
       "      <td>Essential</td>\n",
       "      <td>GTP/GDP-exchange factors (GEFs)</td>\n",
       "      <td>Translation complexes</td>\n",
       "      <td>?</td>\n",
       "      <td>PS00824</td>\n",
       "      <td>1</td>\n",
       "      <td>PROTEIN SYNTHESIS</td>\n",
       "      <td>cytoplasm</td>\n",
       "    </tr>\n",
       "    <tr>\n",
       "      <th>2</th>\n",
       "      <td>G234064</td>\n",
       "      <td>Essential</td>\n",
       "      <td>GTP/GDP-exchange factors (GEFs)</td>\n",
       "      <td>Translation complexes</td>\n",
       "      <td>?</td>\n",
       "      <td>PS00825</td>\n",
       "      <td>1</td>\n",
       "      <td>CELLULAR ORGANIZATION (proteins are localized ...</td>\n",
       "      <td>cytoplasm</td>\n",
       "    </tr>\n",
       "    <tr>\n",
       "      <th>3</th>\n",
       "      <td>G234064</td>\n",
       "      <td>Essential</td>\n",
       "      <td>GTP/GDP-exchange factors (GEFs)</td>\n",
       "      <td>Translation complexes</td>\n",
       "      <td>?</td>\n",
       "      <td>PS00825</td>\n",
       "      <td>1</td>\n",
       "      <td>PROTEIN SYNTHESIS</td>\n",
       "      <td>cytoplasm</td>\n",
       "    </tr>\n",
       "    <tr>\n",
       "      <th>4</th>\n",
       "      <td>G234065</td>\n",
       "      <td>Non-Essential</td>\n",
       "      <td>ATPases</td>\n",
       "      <td>?</td>\n",
       "      <td>?</td>\n",
       "      <td>?</td>\n",
       "      <td>1</td>\n",
       "      <td>CELL RESCUE, DEFENSE, CELL DEATH AND AGEING</td>\n",
       "      <td>cytoplasm</td>\n",
       "    </tr>\n",
       "    <tr>\n",
       "      <th>5</th>\n",
       "      <td>G234065</td>\n",
       "      <td>Non-Essential</td>\n",
       "      <td>ATPases</td>\n",
       "      <td>?</td>\n",
       "      <td>?</td>\n",
       "      <td>?</td>\n",
       "      <td>1</td>\n",
       "      <td>CELLULAR ORGANIZATION (proteins are localized ...</td>\n",
       "      <td>cytoplasm</td>\n",
       "    </tr>\n",
       "    <tr>\n",
       "      <th>6</th>\n",
       "      <td>G234065</td>\n",
       "      <td>Non-Essential</td>\n",
       "      <td>ATPases</td>\n",
       "      <td>?</td>\n",
       "      <td>?</td>\n",
       "      <td>?</td>\n",
       "      <td>1</td>\n",
       "      <td>CELLULAR TRANSPORT AND TRANSPORTMECHANISMS</td>\n",
       "      <td>cytoplasm</td>\n",
       "    </tr>\n",
       "    <tr>\n",
       "      <th>7</th>\n",
       "      <td>G234065</td>\n",
       "      <td>Non-Essential</td>\n",
       "      <td>ATPases</td>\n",
       "      <td>?</td>\n",
       "      <td>?</td>\n",
       "      <td>?</td>\n",
       "      <td>1</td>\n",
       "      <td>PROTEIN DESTINATION</td>\n",
       "      <td>cytoplasm</td>\n",
       "    </tr>\n",
       "    <tr>\n",
       "      <th>8</th>\n",
       "      <td>G234065</td>\n",
       "      <td>Non-Essential</td>\n",
       "      <td>Molecular chaperones</td>\n",
       "      <td>?</td>\n",
       "      <td>?</td>\n",
       "      <td>?</td>\n",
       "      <td>1</td>\n",
       "      <td>CELL RESCUE, DEFENSE, CELL DEATH AND AGEING</td>\n",
       "      <td>cytoplasm</td>\n",
       "    </tr>\n",
       "    <tr>\n",
       "      <th>9</th>\n",
       "      <td>G234065</td>\n",
       "      <td>Non-Essential</td>\n",
       "      <td>Molecular chaperones</td>\n",
       "      <td>?</td>\n",
       "      <td>?</td>\n",
       "      <td>?</td>\n",
       "      <td>1</td>\n",
       "      <td>CELLULAR ORGANIZATION (proteins are localized ...</td>\n",
       "      <td>cytoplasm</td>\n",
       "    </tr>\n",
       "  </tbody>\n",
       "</table>\n",
       "</div>"
      ],
      "text/plain": [
       "    GeneID      Essential                            Class  \\\n",
       "0  G234064      Essential  GTP/GDP-exchange factors (GEFs)   \n",
       "1  G234064      Essential  GTP/GDP-exchange factors (GEFs)   \n",
       "2  G234064      Essential  GTP/GDP-exchange factors (GEFs)   \n",
       "3  G234064      Essential  GTP/GDP-exchange factors (GEFs)   \n",
       "4  G234065  Non-Essential                          ATPases   \n",
       "5  G234065  Non-Essential                          ATPases   \n",
       "6  G234065  Non-Essential                          ATPases   \n",
       "7  G234065  Non-Essential                          ATPases   \n",
       "8  G234065  Non-Essential             Molecular chaperones   \n",
       "9  G234065  Non-Essential             Molecular chaperones   \n",
       "\n",
       "                 Complex Phenotype    Motif Chromosome  \\\n",
       "0  Translation complexes         ?  PS00824          1   \n",
       "1  Translation complexes         ?  PS00824          1   \n",
       "2  Translation complexes         ?  PS00825          1   \n",
       "3  Translation complexes         ?  PS00825          1   \n",
       "4                      ?         ?        ?          1   \n",
       "5                      ?         ?        ?          1   \n",
       "6                      ?         ?        ?          1   \n",
       "7                      ?         ?        ?          1   \n",
       "8                      ?         ?        ?          1   \n",
       "9                      ?         ?        ?          1   \n",
       "\n",
       "                                            Function Localization  \n",
       "0  CELLULAR ORGANIZATION (proteins are localized ...    cytoplasm  \n",
       "1                                  PROTEIN SYNTHESIS    cytoplasm  \n",
       "2  CELLULAR ORGANIZATION (proteins are localized ...    cytoplasm  \n",
       "3                                  PROTEIN SYNTHESIS    cytoplasm  \n",
       "4        CELL RESCUE, DEFENSE, CELL DEATH AND AGEING    cytoplasm  \n",
       "5  CELLULAR ORGANIZATION (proteins are localized ...    cytoplasm  \n",
       "6         CELLULAR TRANSPORT AND TRANSPORTMECHANISMS    cytoplasm  \n",
       "7                                PROTEIN DESTINATION    cytoplasm  \n",
       "8        CELL RESCUE, DEFENSE, CELL DEATH AND AGEING    cytoplasm  \n",
       "9  CELLULAR ORGANIZATION (proteins are localized ...    cytoplasm  "
      ]
     },
     "execution_count": 467,
     "metadata": {},
     "output_type": "execute_result"
    }
   ],
   "source": [
    "genesDf = pd.read_csv('C:/Users/Eli/Documents/2018_Fall/Data_Mining/Assignment2/Genes_relation.data')\n",
    "genesDf.head(10)"
   ]
  },
  {
   "cell_type": "code",
   "execution_count": 468,
   "metadata": {},
   "outputs": [
    {
     "data": {
      "text/plain": [
       "(4346, 9)"
      ]
     },
     "execution_count": 468,
     "metadata": {},
     "output_type": "execute_result"
    }
   ],
   "source": [
    "genesDf.shape"
   ]
  },
  {
   "cell_type": "markdown",
   "metadata": {},
   "source": [
    "Replace ? values with null"
   ]
  },
  {
   "cell_type": "code",
   "execution_count": 469,
   "metadata": {},
   "outputs": [],
   "source": [
    "genesDf = genesDf.replace('?', np.NaN)"
   ]
  },
  {
   "cell_type": "markdown",
   "metadata": {},
   "source": [
    "Remove data we don't need, \"Function\""
   ]
  },
  {
   "cell_type": "code",
   "execution_count": 470,
   "metadata": {},
   "outputs": [],
   "source": [
    "genesDf = genesDf.drop(columns=['Function'])"
   ]
  },
  {
   "cell_type": "code",
   "execution_count": 471,
   "metadata": {},
   "outputs": [
    {
     "data": {
      "text/plain": [
       "['GeneID',\n",
       " 'Essential',\n",
       " 'Class',\n",
       " 'Complex',\n",
       " 'Phenotype',\n",
       " 'Motif',\n",
       " 'Chromosome',\n",
       " 'Localization']"
      ]
     },
     "execution_count": 471,
     "metadata": {},
     "output_type": "execute_result"
    }
   ],
   "source": [
    "list(genesDf)"
   ]
  },
  {
   "cell_type": "markdown",
   "metadata": {},
   "source": [
    "Display number of null values in the columns as a percentage"
   ]
  },
  {
   "cell_type": "code",
   "execution_count": 472,
   "metadata": {},
   "outputs": [
    {
     "data": {
      "text/plain": [
       "GeneID          0.000000\n",
       "Essential       0.030603\n",
       "Class           0.611367\n",
       "Complex         0.434883\n",
       "Phenotype       0.245053\n",
       "Motif           0.515186\n",
       "Chromosome      0.000460\n",
       "Localization    0.000000\n",
       "dtype: float64"
      ]
     },
     "execution_count": 472,
     "metadata": {},
     "output_type": "execute_result"
    }
   ],
   "source": [
    "1 - genesDf.count()/len(genesDf.index)"
   ]
  },
  {
   "cell_type": "markdown",
   "metadata": {},
   "source": [
    "Class, Motif and Complex have a lot of missing data so we'll drop them"
   ]
  },
  {
   "cell_type": "code",
   "execution_count": 473,
   "metadata": {},
   "outputs": [],
   "source": [
    "genesDf = genesDf.drop(columns=['Class','Motif','Complex'])"
   ]
  },
  {
   "cell_type": "code",
   "execution_count": 474,
   "metadata": {},
   "outputs": [
    {
     "data": {
      "text/plain": [
       "GeneID          0.000000\n",
       "Essential       0.030603\n",
       "Phenotype       0.245053\n",
       "Chromosome      0.000460\n",
       "Localization    0.000000\n",
       "dtype: float64"
      ]
     },
     "execution_count": 474,
     "metadata": {},
     "output_type": "execute_result"
    }
   ],
   "source": [
    "1 - genesDf.count()/len(genesDf.index)"
   ]
  },
  {
   "cell_type": "markdown",
   "metadata": {},
   "source": [
    "Now we'll try removing all the rows that have null values"
   ]
  },
  {
   "cell_type": "code",
   "execution_count": 475,
   "metadata": {},
   "outputs": [],
   "source": [
    "genesDf = genesDf.dropna(how='any',axis=0) "
   ]
  },
  {
   "cell_type": "code",
   "execution_count": 476,
   "metadata": {},
   "outputs": [
    {
     "data": {
      "text/plain": [
       "(3236, 5)"
      ]
     },
     "execution_count": 476,
     "metadata": {},
     "output_type": "execute_result"
    }
   ],
   "source": [
    "genesDf.shape"
   ]
  },
  {
   "cell_type": "code",
   "execution_count": 477,
   "metadata": {},
   "outputs": [
    {
     "data": {
      "text/plain": [
       "GeneID          0.0\n",
       "Essential       0.0\n",
       "Phenotype       0.0\n",
       "Chromosome      0.0\n",
       "Localization    0.0\n",
       "dtype: float64"
      ]
     },
     "execution_count": 477,
     "metadata": {},
     "output_type": "execute_result"
    }
   ],
   "source": [
    "1 - genesDf.count()/len(genesDf.index)"
   ]
  },
  {
   "cell_type": "markdown",
   "metadata": {},
   "source": [
    "There are still 3200+ rows left and all our null values have been removed\n",
    "Now lets remove GeneID since it has no value to us"
   ]
  },
  {
   "cell_type": "code",
   "execution_count": 478,
   "metadata": {},
   "outputs": [],
   "source": [
    "genesDf = genesDf.drop(columns=['GeneID'])"
   ]
  },
  {
   "cell_type": "code",
   "execution_count": 479,
   "metadata": {},
   "outputs": [
    {
     "data": {
      "text/plain": [
       "['Essential', 'Phenotype', 'Chromosome', 'Localization']"
      ]
     },
     "execution_count": 479,
     "metadata": {},
     "output_type": "execute_result"
    }
   ],
   "source": [
    "list(genesDf)"
   ]
  },
  {
   "cell_type": "markdown",
   "metadata": {},
   "source": [
    "Next we'll seperate the data into train, test and predictors vs target"
   ]
  },
  {
   "cell_type": "code",
   "execution_count": 480,
   "metadata": {
    "scrolled": true
   },
   "outputs": [],
   "source": [
    "n =  2400\n",
    "seed = 1\n",
    "train = genesDf.sample(n,random_state = seed).sort_index()\n",
    "test = genesDf[~genesDf.isin(train).all(1)].sort_index()"
   ]
  },
  {
   "cell_type": "code",
   "execution_count": 481,
   "metadata": {
    "scrolled": false
   },
   "outputs": [
    {
     "data": {
      "text/plain": [
       "(2400, 4)"
      ]
     },
     "execution_count": 481,
     "metadata": {},
     "output_type": "execute_result"
    }
   ],
   "source": [
    "train.shape"
   ]
  },
  {
   "cell_type": "code",
   "execution_count": 482,
   "metadata": {},
   "outputs": [
    {
     "data": {
      "text/plain": [
       "(836, 4)"
      ]
     },
     "execution_count": 482,
     "metadata": {},
     "output_type": "execute_result"
    }
   ],
   "source": [
    "test.shape"
   ]
  },
  {
   "cell_type": "markdown",
   "metadata": {},
   "source": [
    "Now let's train a decision tree on Localization data"
   ]
  },
  {
   "cell_type": "code",
   "execution_count": 483,
   "metadata": {
    "scrolled": true
   },
   "outputs": [
    {
     "name": "stderr",
     "output_type": "stream",
     "text": [
      "C:\\Users\\Eli\\Anaconda3\\lib\\site-packages\\ipykernel_launcher.py:4: SettingWithCopyWarning: \n",
      "A value is trying to be set on a copy of a slice from a DataFrame.\n",
      "Try using .loc[row_indexer,col_indexer] = value instead\n",
      "\n",
      "See the caveats in the documentation: http://pandas.pydata.org/pandas-docs/stable/indexing.html#indexing-view-versus-copy\n",
      "  after removing the cwd from sys.path.\n",
      "C:\\Users\\Eli\\Anaconda3\\lib\\site-packages\\ipykernel_launcher.py:5: SettingWithCopyWarning: \n",
      "A value is trying to be set on a copy of a slice from a DataFrame.\n",
      "Try using .loc[row_indexer,col_indexer] = value instead\n",
      "\n",
      "See the caveats in the documentation: http://pandas.pydata.org/pandas-docs/stable/indexing.html#indexing-view-versus-copy\n",
      "  \"\"\"\n"
     ]
    },
    {
     "data": {
      "text/plain": [
       "0.6233333333333333"
      ]
     },
     "execution_count": 483,
     "metadata": {},
     "output_type": "execute_result"
    }
   ],
   "source": [
    "ytrain = train[['Localization']] \n",
    "xtrain = train [['Essential','Phenotype','Chromosome']]\n",
    "dtree = DecisionTreeClassifier()\n",
    "xtrain['Essential'] = pd.factorize(xtrain['Essential'])[0]\n",
    "xtrain['Phenotype'] = pd.factorize(xtrain['Phenotype'])[0]\n",
    "dtree.fit(xtrain,ytrain)\n",
    "pred = dtree.predict(xtrain)\n",
    "dtree.score(xtrain,ytrain)"
   ]
  },
  {
   "cell_type": "markdown",
   "metadata": {},
   "source": [
    "Our decision tree has a 62% accuracy.\n",
    "Now lets import our test data"
   ]
  },
  {
   "cell_type": "code",
   "execution_count": 484,
   "metadata": {},
   "outputs": [],
   "source": [
    "testDf = pd.read_csv('C:/Users/Eli/Documents/2018_Fall/Data_Mining/Assignment2/Genes_relation.test')"
   ]
  },
  {
   "cell_type": "markdown",
   "metadata": {},
   "source": [
    "Now lets prepare the test data."
   ]
  },
  {
   "cell_type": "code",
   "execution_count": 485,
   "metadata": {},
   "outputs": [
    {
     "data": {
      "text/plain": [
       "['GeneID', 'Essential', 'Phenotype', 'Chromosome']"
      ]
     },
     "execution_count": 485,
     "metadata": {},
     "output_type": "execute_result"
    }
   ],
   "source": [
    "testDf = testDf.replace('?', np.NaN)\n",
    "testDf = testDf.drop(columns=['Localization','Function','Class','Motif','Complex'])\n",
    "testDf = testDf.dropna(how='any',axis=0) \n",
    "geneId = testDf[['GeneID']]\n",
    "list(testDf)"
   ]
  },
  {
   "cell_type": "markdown",
   "metadata": {},
   "source": [
    "Now let's run the test test data through our decision tree"
   ]
  },
  {
   "cell_type": "code",
   "execution_count": 486,
   "metadata": {},
   "outputs": [
    {
     "name": "stderr",
     "output_type": "stream",
     "text": [
      "C:\\Users\\Eli\\Anaconda3\\lib\\site-packages\\ipykernel_launcher.py:2: SettingWithCopyWarning: \n",
      "A value is trying to be set on a copy of a slice from a DataFrame.\n",
      "Try using .loc[row_indexer,col_indexer] = value instead\n",
      "\n",
      "See the caveats in the documentation: http://pandas.pydata.org/pandas-docs/stable/indexing.html#indexing-view-versus-copy\n",
      "  \n",
      "C:\\Users\\Eli\\Anaconda3\\lib\\site-packages\\ipykernel_launcher.py:3: SettingWithCopyWarning: \n",
      "A value is trying to be set on a copy of a slice from a DataFrame.\n",
      "Try using .loc[row_indexer,col_indexer] = value instead\n",
      "\n",
      "See the caveats in the documentation: http://pandas.pydata.org/pandas-docs/stable/indexing.html#indexing-view-versus-copy\n",
      "  This is separate from the ipykernel package so we can avoid doing imports until\n"
     ]
    },
    {
     "data": {
      "text/html": [
       "<div>\n",
       "<style scoped>\n",
       "    .dataframe tbody tr th:only-of-type {\n",
       "        vertical-align: middle;\n",
       "    }\n",
       "\n",
       "    .dataframe tbody tr th {\n",
       "        vertical-align: top;\n",
       "    }\n",
       "\n",
       "    .dataframe thead th {\n",
       "        text-align: right;\n",
       "    }\n",
       "</style>\n",
       "<table border=\"1\" class=\"dataframe\">\n",
       "  <thead>\n",
       "    <tr style=\"text-align: right;\">\n",
       "      <th></th>\n",
       "      <th>Localization</th>\n",
       "    </tr>\n",
       "  </thead>\n",
       "  <tbody>\n",
       "    <tr>\n",
       "      <th>0</th>\n",
       "      <td>nucleus</td>\n",
       "    </tr>\n",
       "    <tr>\n",
       "      <th>1</th>\n",
       "      <td>plasma membrane</td>\n",
       "    </tr>\n",
       "    <tr>\n",
       "      <th>2</th>\n",
       "      <td>cytoplasm</td>\n",
       "    </tr>\n",
       "    <tr>\n",
       "      <th>3</th>\n",
       "      <td>cytoskeleton</td>\n",
       "    </tr>\n",
       "    <tr>\n",
       "      <th>4</th>\n",
       "      <td>nucleus</td>\n",
       "    </tr>\n",
       "    <tr>\n",
       "      <th>5</th>\n",
       "      <td>ER</td>\n",
       "    </tr>\n",
       "    <tr>\n",
       "      <th>6</th>\n",
       "      <td>cytoskeleton</td>\n",
       "    </tr>\n",
       "    <tr>\n",
       "      <th>7</th>\n",
       "      <td>cytoplasm</td>\n",
       "    </tr>\n",
       "    <tr>\n",
       "      <th>8</th>\n",
       "      <td>nucleus</td>\n",
       "    </tr>\n",
       "    <tr>\n",
       "      <th>9</th>\n",
       "      <td>plasma membrane</td>\n",
       "    </tr>\n",
       "    <tr>\n",
       "      <th>10</th>\n",
       "      <td>cytoskeleton</td>\n",
       "    </tr>\n",
       "    <tr>\n",
       "      <th>11</th>\n",
       "      <td>ER</td>\n",
       "    </tr>\n",
       "    <tr>\n",
       "      <th>12</th>\n",
       "      <td>cytoplasm</td>\n",
       "    </tr>\n",
       "    <tr>\n",
       "      <th>13</th>\n",
       "      <td>nucleus</td>\n",
       "    </tr>\n",
       "    <tr>\n",
       "      <th>14</th>\n",
       "      <td>nucleus</td>\n",
       "    </tr>\n",
       "    <tr>\n",
       "      <th>15</th>\n",
       "      <td>cytoskeleton</td>\n",
       "    </tr>\n",
       "    <tr>\n",
       "      <th>16</th>\n",
       "      <td>plasma membrane</td>\n",
       "    </tr>\n",
       "    <tr>\n",
       "      <th>17</th>\n",
       "      <td>cytoplasm</td>\n",
       "    </tr>\n",
       "    <tr>\n",
       "      <th>18</th>\n",
       "      <td>golgi</td>\n",
       "    </tr>\n",
       "    <tr>\n",
       "      <th>19</th>\n",
       "      <td>nucleus</td>\n",
       "    </tr>\n",
       "    <tr>\n",
       "      <th>20</th>\n",
       "      <td>golgi</td>\n",
       "    </tr>\n",
       "    <tr>\n",
       "      <th>21</th>\n",
       "      <td>cytoplasm</td>\n",
       "    </tr>\n",
       "    <tr>\n",
       "      <th>22</th>\n",
       "      <td>golgi</td>\n",
       "    </tr>\n",
       "    <tr>\n",
       "      <th>23</th>\n",
       "      <td>golgi</td>\n",
       "    </tr>\n",
       "    <tr>\n",
       "      <th>24</th>\n",
       "      <td>cytoplasm</td>\n",
       "    </tr>\n",
       "    <tr>\n",
       "      <th>25</th>\n",
       "      <td>cytoplasm</td>\n",
       "    </tr>\n",
       "    <tr>\n",
       "      <th>26</th>\n",
       "      <td>cytoskeleton</td>\n",
       "    </tr>\n",
       "    <tr>\n",
       "      <th>27</th>\n",
       "      <td>nucleus</td>\n",
       "    </tr>\n",
       "    <tr>\n",
       "      <th>28</th>\n",
       "      <td>nucleus</td>\n",
       "    </tr>\n",
       "    <tr>\n",
       "      <th>29</th>\n",
       "      <td>cytoskeleton</td>\n",
       "    </tr>\n",
       "    <tr>\n",
       "      <th>...</th>\n",
       "      <td>...</td>\n",
       "    </tr>\n",
       "    <tr>\n",
       "      <th>1302</th>\n",
       "      <td>nucleus</td>\n",
       "    </tr>\n",
       "    <tr>\n",
       "      <th>1303</th>\n",
       "      <td>plasma membrane</td>\n",
       "    </tr>\n",
       "    <tr>\n",
       "      <th>1304</th>\n",
       "      <td>vacuole</td>\n",
       "    </tr>\n",
       "    <tr>\n",
       "      <th>1305</th>\n",
       "      <td>mitochondria</td>\n",
       "    </tr>\n",
       "    <tr>\n",
       "      <th>1306</th>\n",
       "      <td>cytoplasm</td>\n",
       "    </tr>\n",
       "    <tr>\n",
       "      <th>1307</th>\n",
       "      <td>plasma membrane</td>\n",
       "    </tr>\n",
       "    <tr>\n",
       "      <th>1308</th>\n",
       "      <td>nucleus</td>\n",
       "    </tr>\n",
       "    <tr>\n",
       "      <th>1309</th>\n",
       "      <td>cytoplasm</td>\n",
       "    </tr>\n",
       "    <tr>\n",
       "      <th>1310</th>\n",
       "      <td>ER</td>\n",
       "    </tr>\n",
       "    <tr>\n",
       "      <th>1311</th>\n",
       "      <td>cytoplasm</td>\n",
       "    </tr>\n",
       "    <tr>\n",
       "      <th>1312</th>\n",
       "      <td>cytoplasm</td>\n",
       "    </tr>\n",
       "    <tr>\n",
       "      <th>1313</th>\n",
       "      <td>cytoskeleton</td>\n",
       "    </tr>\n",
       "    <tr>\n",
       "      <th>1314</th>\n",
       "      <td>cytoskeleton</td>\n",
       "    </tr>\n",
       "    <tr>\n",
       "      <th>1315</th>\n",
       "      <td>golgi</td>\n",
       "    </tr>\n",
       "    <tr>\n",
       "      <th>1316</th>\n",
       "      <td>golgi</td>\n",
       "    </tr>\n",
       "    <tr>\n",
       "      <th>1317</th>\n",
       "      <td>cytoplasm</td>\n",
       "    </tr>\n",
       "    <tr>\n",
       "      <th>1318</th>\n",
       "      <td>cytoplasm</td>\n",
       "    </tr>\n",
       "    <tr>\n",
       "      <th>1319</th>\n",
       "      <td>golgi</td>\n",
       "    </tr>\n",
       "    <tr>\n",
       "      <th>1320</th>\n",
       "      <td>plasma membrane</td>\n",
       "    </tr>\n",
       "    <tr>\n",
       "      <th>1321</th>\n",
       "      <td>cytoplasm</td>\n",
       "    </tr>\n",
       "    <tr>\n",
       "      <th>1322</th>\n",
       "      <td>nucleus</td>\n",
       "    </tr>\n",
       "    <tr>\n",
       "      <th>1323</th>\n",
       "      <td>nucleus</td>\n",
       "    </tr>\n",
       "    <tr>\n",
       "      <th>1324</th>\n",
       "      <td>nucleus</td>\n",
       "    </tr>\n",
       "    <tr>\n",
       "      <th>1325</th>\n",
       "      <td>ER</td>\n",
       "    </tr>\n",
       "    <tr>\n",
       "      <th>1326</th>\n",
       "      <td>cytoplasm</td>\n",
       "    </tr>\n",
       "    <tr>\n",
       "      <th>1327</th>\n",
       "      <td>mitochondria</td>\n",
       "    </tr>\n",
       "    <tr>\n",
       "      <th>1328</th>\n",
       "      <td>nucleus</td>\n",
       "    </tr>\n",
       "    <tr>\n",
       "      <th>1329</th>\n",
       "      <td>mitochondria</td>\n",
       "    </tr>\n",
       "    <tr>\n",
       "      <th>1330</th>\n",
       "      <td>cytoplasm</td>\n",
       "    </tr>\n",
       "    <tr>\n",
       "      <th>1331</th>\n",
       "      <td>cytoskeleton</td>\n",
       "    </tr>\n",
       "  </tbody>\n",
       "</table>\n",
       "<p>1332 rows × 1 columns</p>\n",
       "</div>"
      ],
      "text/plain": [
       "         Localization\n",
       "0             nucleus\n",
       "1     plasma membrane\n",
       "2           cytoplasm\n",
       "3        cytoskeleton\n",
       "4             nucleus\n",
       "5                  ER\n",
       "6        cytoskeleton\n",
       "7           cytoplasm\n",
       "8             nucleus\n",
       "9     plasma membrane\n",
       "10       cytoskeleton\n",
       "11                 ER\n",
       "12          cytoplasm\n",
       "13            nucleus\n",
       "14            nucleus\n",
       "15       cytoskeleton\n",
       "16    plasma membrane\n",
       "17          cytoplasm\n",
       "18              golgi\n",
       "19            nucleus\n",
       "20              golgi\n",
       "21          cytoplasm\n",
       "22              golgi\n",
       "23              golgi\n",
       "24          cytoplasm\n",
       "25          cytoplasm\n",
       "26       cytoskeleton\n",
       "27            nucleus\n",
       "28            nucleus\n",
       "29       cytoskeleton\n",
       "...               ...\n",
       "1302          nucleus\n",
       "1303  plasma membrane\n",
       "1304          vacuole\n",
       "1305     mitochondria\n",
       "1306        cytoplasm\n",
       "1307  plasma membrane\n",
       "1308          nucleus\n",
       "1309        cytoplasm\n",
       "1310               ER\n",
       "1311        cytoplasm\n",
       "1312        cytoplasm\n",
       "1313     cytoskeleton\n",
       "1314     cytoskeleton\n",
       "1315            golgi\n",
       "1316            golgi\n",
       "1317        cytoplasm\n",
       "1318        cytoplasm\n",
       "1319            golgi\n",
       "1320  plasma membrane\n",
       "1321        cytoplasm\n",
       "1322          nucleus\n",
       "1323          nucleus\n",
       "1324          nucleus\n",
       "1325               ER\n",
       "1326        cytoplasm\n",
       "1327     mitochondria\n",
       "1328          nucleus\n",
       "1329     mitochondria\n",
       "1330        cytoplasm\n",
       "1331     cytoskeleton\n",
       "\n",
       "[1332 rows x 1 columns]"
      ]
     },
     "execution_count": 486,
     "metadata": {},
     "output_type": "execute_result"
    }
   ],
   "source": [
    "xtest = testDf [['Essential','Phenotype','Chromosome']]\n",
    "xtest['Essential'] = pd.factorize(xtest['Essential'])[0]\n",
    "xtest['Phenotype'] = pd.factorize(xtest['Phenotype'])[0]\n",
    "pred = dtree.predict(xtest)\n",
    "pred = pd.DataFrame(pred)\n",
    "pred.columns = ['Localization']\n",
    "pred"
   ]
  },
  {
   "cell_type": "markdown",
   "metadata": {},
   "source": [
    "Now we'll join the gene ids back to the prediction dataframe so we can compare our predictions to the actual"
   ]
  },
  {
   "cell_type": "code",
   "execution_count": 487,
   "metadata": {},
   "outputs": [
    {
     "data": {
      "text/html": [
       "<div>\n",
       "<style scoped>\n",
       "    .dataframe tbody tr th:only-of-type {\n",
       "        vertical-align: middle;\n",
       "    }\n",
       "\n",
       "    .dataframe tbody tr th {\n",
       "        vertical-align: top;\n",
       "    }\n",
       "\n",
       "    .dataframe thead th {\n",
       "        text-align: right;\n",
       "    }\n",
       "</style>\n",
       "<table border=\"1\" class=\"dataframe\">\n",
       "  <thead>\n",
       "    <tr style=\"text-align: right;\">\n",
       "      <th></th>\n",
       "      <th>Localization_p</th>\n",
       "      <th>GeneID</th>\n",
       "    </tr>\n",
       "  </thead>\n",
       "  <tbody>\n",
       "    <tr>\n",
       "      <th>0</th>\n",
       "      <td>nucleus</td>\n",
       "      <td>G234273</td>\n",
       "    </tr>\n",
       "    <tr>\n",
       "      <th>1</th>\n",
       "      <td>plasma membrane</td>\n",
       "      <td>G234490</td>\n",
       "    </tr>\n",
       "    <tr>\n",
       "      <th>2</th>\n",
       "      <td>cytoplasm</td>\n",
       "      <td>G234394</td>\n",
       "    </tr>\n",
       "    <tr>\n",
       "      <th>3</th>\n",
       "      <td>cytoskeleton</td>\n",
       "      <td>G234385</td>\n",
       "    </tr>\n",
       "    <tr>\n",
       "      <th>4</th>\n",
       "      <td>nucleus</td>\n",
       "      <td>G234365</td>\n",
       "    </tr>\n",
       "    <tr>\n",
       "      <th>5</th>\n",
       "      <td>ER</td>\n",
       "      <td>G235818</td>\n",
       "    </tr>\n",
       "    <tr>\n",
       "      <th>6</th>\n",
       "      <td>cytoskeleton</td>\n",
       "      <td>G235319</td>\n",
       "    </tr>\n",
       "    <tr>\n",
       "      <th>7</th>\n",
       "      <td>cytoplasm</td>\n",
       "      <td>G236758</td>\n",
       "    </tr>\n",
       "    <tr>\n",
       "      <th>8</th>\n",
       "      <td>nucleus</td>\n",
       "      <td>G234247</td>\n",
       "    </tr>\n",
       "    <tr>\n",
       "      <th>9</th>\n",
       "      <td>plasma membrane</td>\n",
       "      <td>G237124</td>\n",
       "    </tr>\n",
       "  </tbody>\n",
       "</table>\n",
       "</div>"
      ],
      "text/plain": [
       "    Localization_p   GeneID\n",
       "0          nucleus  G234273\n",
       "1  plasma membrane  G234490\n",
       "2        cytoplasm  G234394\n",
       "3     cytoskeleton  G234385\n",
       "4          nucleus  G234365\n",
       "5               ER  G235818\n",
       "6     cytoskeleton  G235319\n",
       "7        cytoplasm  G236758\n",
       "8          nucleus  G234247\n",
       "9  plasma membrane  G237124"
      ]
     },
     "execution_count": 487,
     "metadata": {},
     "output_type": "execute_result"
    }
   ],
   "source": [
    "geneId = geneId.reset_index()\n",
    "pred = pd.DataFrame({'Localization_p' : pred.Localization, 'GeneID' : geneId.GeneID})\n",
    "pred.head(10)"
   ]
  },
  {
   "cell_type": "markdown",
   "metadata": {},
   "source": [
    "Now we'll read in the actual data"
   ]
  },
  {
   "cell_type": "code",
   "execution_count": 493,
   "metadata": {},
   "outputs": [
    {
     "data": {
      "text/html": [
       "<div>\n",
       "<style scoped>\n",
       "    .dataframe tbody tr th:only-of-type {\n",
       "        vertical-align: middle;\n",
       "    }\n",
       "\n",
       "    .dataframe tbody tr th {\n",
       "        vertical-align: top;\n",
       "    }\n",
       "\n",
       "    .dataframe thead th {\n",
       "        text-align: right;\n",
       "    }\n",
       "</style>\n",
       "<table border=\"1\" class=\"dataframe\">\n",
       "  <thead>\n",
       "    <tr style=\"text-align: right;\">\n",
       "      <th></th>\n",
       "      <th>GeneID</th>\n",
       "      <th>Localization_a</th>\n",
       "    </tr>\n",
       "  </thead>\n",
       "  <tbody>\n",
       "    <tr>\n",
       "      <th>0</th>\n",
       "      <td>G234062</td>\n",
       "      <td>mitochondria</td>\n",
       "    </tr>\n",
       "    <tr>\n",
       "      <th>1</th>\n",
       "      <td>G234081</td>\n",
       "      <td>nucleus</td>\n",
       "    </tr>\n",
       "    <tr>\n",
       "      <th>2</th>\n",
       "      <td>G234086</td>\n",
       "      <td>mitochondria</td>\n",
       "    </tr>\n",
       "    <tr>\n",
       "      <th>3</th>\n",
       "      <td>G234087</td>\n",
       "      <td>nucleus</td>\n",
       "    </tr>\n",
       "    <tr>\n",
       "      <th>4</th>\n",
       "      <td>G234094</td>\n",
       "      <td>nucleus</td>\n",
       "    </tr>\n",
       "    <tr>\n",
       "      <th>5</th>\n",
       "      <td>G234097</td>\n",
       "      <td>nucleus</td>\n",
       "    </tr>\n",
       "    <tr>\n",
       "      <th>6</th>\n",
       "      <td>G234112</td>\n",
       "      <td>mitochondria</td>\n",
       "    </tr>\n",
       "    <tr>\n",
       "      <th>7</th>\n",
       "      <td>G234120</td>\n",
       "      <td>plasma membrane</td>\n",
       "    </tr>\n",
       "    <tr>\n",
       "      <th>8</th>\n",
       "      <td>G234125</td>\n",
       "      <td>golgi</td>\n",
       "    </tr>\n",
       "    <tr>\n",
       "      <th>9</th>\n",
       "      <td>G234137</td>\n",
       "      <td>cytoskeleton</td>\n",
       "    </tr>\n",
       "  </tbody>\n",
       "</table>\n",
       "</div>"
      ],
      "text/plain": [
       "    GeneID   Localization_a\n",
       "0  G234062     mitochondria\n",
       "1  G234081          nucleus\n",
       "2  G234086     mitochondria\n",
       "3  G234087          nucleus\n",
       "4  G234094          nucleus\n",
       "5  G234097          nucleus\n",
       "6  G234112     mitochondria\n",
       "7  G234120  plasma membrane\n",
       "8  G234125            golgi\n",
       "9  G234137     cytoskeleton"
      ]
     },
     "execution_count": 493,
     "metadata": {},
     "output_type": "execute_result"
    }
   ],
   "source": [
    "keys = pd.read_csv('C:/Users/Eli/Documents/2018_Fall/Data_Mining/Assignment2/keys.txt')\n",
    "keys.columns = ['GeneID','Localization_a']\n",
    "keys.head(10)"
   ]
  },
  {
   "cell_type": "markdown",
   "metadata": {},
   "source": [
    "And now we'll merge the actual data with the predicted data using the Gene ID"
   ]
  },
  {
   "cell_type": "code",
   "execution_count": 494,
   "metadata": {},
   "outputs": [
    {
     "data": {
      "text/html": [
       "<div>\n",
       "<style scoped>\n",
       "    .dataframe tbody tr th:only-of-type {\n",
       "        vertical-align: middle;\n",
       "    }\n",
       "\n",
       "    .dataframe tbody tr th {\n",
       "        vertical-align: top;\n",
       "    }\n",
       "\n",
       "    .dataframe thead th {\n",
       "        text-align: right;\n",
       "    }\n",
       "</style>\n",
       "<table border=\"1\" class=\"dataframe\">\n",
       "  <thead>\n",
       "    <tr style=\"text-align: right;\">\n",
       "      <th></th>\n",
       "      <th>Localization_p</th>\n",
       "      <th>GeneID</th>\n",
       "      <th>Localization_a</th>\n",
       "    </tr>\n",
       "  </thead>\n",
       "  <tbody>\n",
       "    <tr>\n",
       "      <th>0</th>\n",
       "      <td>nucleus</td>\n",
       "      <td>G234273</td>\n",
       "      <td>cytoplasm</td>\n",
       "    </tr>\n",
       "    <tr>\n",
       "      <th>1</th>\n",
       "      <td>nucleus</td>\n",
       "      <td>G234273</td>\n",
       "      <td>cytoplasm</td>\n",
       "    </tr>\n",
       "    <tr>\n",
       "      <th>2</th>\n",
       "      <td>vacuole</td>\n",
       "      <td>G234273</td>\n",
       "      <td>cytoplasm</td>\n",
       "    </tr>\n",
       "    <tr>\n",
       "      <th>3</th>\n",
       "      <td>vacuole</td>\n",
       "      <td>G234273</td>\n",
       "      <td>cytoplasm</td>\n",
       "    </tr>\n",
       "    <tr>\n",
       "      <th>4</th>\n",
       "      <td>vacuole</td>\n",
       "      <td>G234273</td>\n",
       "      <td>cytoplasm</td>\n",
       "    </tr>\n",
       "    <tr>\n",
       "      <th>5</th>\n",
       "      <td>nucleus</td>\n",
       "      <td>G234273</td>\n",
       "      <td>cytoplasm</td>\n",
       "    </tr>\n",
       "    <tr>\n",
       "      <th>6</th>\n",
       "      <td>vacuole</td>\n",
       "      <td>G234273</td>\n",
       "      <td>cytoplasm</td>\n",
       "    </tr>\n",
       "    <tr>\n",
       "      <th>7</th>\n",
       "      <td>nucleus</td>\n",
       "      <td>G234273</td>\n",
       "      <td>cytoplasm</td>\n",
       "    </tr>\n",
       "    <tr>\n",
       "      <th>8</th>\n",
       "      <td>plasma membrane</td>\n",
       "      <td>G234490</td>\n",
       "      <td>nucleus</td>\n",
       "    </tr>\n",
       "    <tr>\n",
       "      <th>9</th>\n",
       "      <td>nucleus</td>\n",
       "      <td>G234490</td>\n",
       "      <td>nucleus</td>\n",
       "    </tr>\n",
       "  </tbody>\n",
       "</table>\n",
       "</div>"
      ],
      "text/plain": [
       "    Localization_p   GeneID Localization_a\n",
       "0          nucleus  G234273      cytoplasm\n",
       "1          nucleus  G234273      cytoplasm\n",
       "2          vacuole  G234273      cytoplasm\n",
       "3          vacuole  G234273      cytoplasm\n",
       "4          vacuole  G234273      cytoplasm\n",
       "5          nucleus  G234273      cytoplasm\n",
       "6          vacuole  G234273      cytoplasm\n",
       "7          nucleus  G234273      cytoplasm\n",
       "8  plasma membrane  G234490        nucleus\n",
       "9          nucleus  G234490        nucleus"
      ]
     },
     "execution_count": 494,
     "metadata": {},
     "output_type": "execute_result"
    }
   ],
   "source": [
    "results = pred.merge(keys, on='GeneID')\n",
    "results.head(10)"
   ]
  },
  {
   "cell_type": "markdown",
   "metadata": {},
   "source": [
    "Now let's compare the predicted vs the actual to determine our accuracy"
   ]
  },
  {
   "cell_type": "code",
   "execution_count": 497,
   "metadata": {},
   "outputs": [
    {
     "data": {
      "text/html": [
       "<div>\n",
       "<style scoped>\n",
       "    .dataframe tbody tr th:only-of-type {\n",
       "        vertical-align: middle;\n",
       "    }\n",
       "\n",
       "    .dataframe tbody tr th {\n",
       "        vertical-align: top;\n",
       "    }\n",
       "\n",
       "    .dataframe thead th {\n",
       "        text-align: right;\n",
       "    }\n",
       "</style>\n",
       "<table border=\"1\" class=\"dataframe\">\n",
       "  <thead>\n",
       "    <tr style=\"text-align: right;\">\n",
       "      <th></th>\n",
       "      <th>Localization_p</th>\n",
       "      <th>GeneID</th>\n",
       "      <th>Localization_a</th>\n",
       "      <th>Correct</th>\n",
       "    </tr>\n",
       "  </thead>\n",
       "  <tbody>\n",
       "    <tr>\n",
       "      <th>0</th>\n",
       "      <td>nucleus</td>\n",
       "      <td>G234273</td>\n",
       "      <td>cytoplasm</td>\n",
       "      <td>0</td>\n",
       "    </tr>\n",
       "    <tr>\n",
       "      <th>1</th>\n",
       "      <td>nucleus</td>\n",
       "      <td>G234273</td>\n",
       "      <td>cytoplasm</td>\n",
       "      <td>0</td>\n",
       "    </tr>\n",
       "    <tr>\n",
       "      <th>2</th>\n",
       "      <td>vacuole</td>\n",
       "      <td>G234273</td>\n",
       "      <td>cytoplasm</td>\n",
       "      <td>0</td>\n",
       "    </tr>\n",
       "    <tr>\n",
       "      <th>3</th>\n",
       "      <td>vacuole</td>\n",
       "      <td>G234273</td>\n",
       "      <td>cytoplasm</td>\n",
       "      <td>0</td>\n",
       "    </tr>\n",
       "    <tr>\n",
       "      <th>4</th>\n",
       "      <td>vacuole</td>\n",
       "      <td>G234273</td>\n",
       "      <td>cytoplasm</td>\n",
       "      <td>0</td>\n",
       "    </tr>\n",
       "    <tr>\n",
       "      <th>5</th>\n",
       "      <td>nucleus</td>\n",
       "      <td>G234273</td>\n",
       "      <td>cytoplasm</td>\n",
       "      <td>0</td>\n",
       "    </tr>\n",
       "    <tr>\n",
       "      <th>6</th>\n",
       "      <td>vacuole</td>\n",
       "      <td>G234273</td>\n",
       "      <td>cytoplasm</td>\n",
       "      <td>0</td>\n",
       "    </tr>\n",
       "    <tr>\n",
       "      <th>7</th>\n",
       "      <td>nucleus</td>\n",
       "      <td>G234273</td>\n",
       "      <td>cytoplasm</td>\n",
       "      <td>0</td>\n",
       "    </tr>\n",
       "    <tr>\n",
       "      <th>8</th>\n",
       "      <td>plasma membrane</td>\n",
       "      <td>G234490</td>\n",
       "      <td>nucleus</td>\n",
       "      <td>0</td>\n",
       "    </tr>\n",
       "    <tr>\n",
       "      <th>9</th>\n",
       "      <td>nucleus</td>\n",
       "      <td>G234490</td>\n",
       "      <td>nucleus</td>\n",
       "      <td>1</td>\n",
       "    </tr>\n",
       "  </tbody>\n",
       "</table>\n",
       "</div>"
      ],
      "text/plain": [
       "    Localization_p   GeneID Localization_a  Correct\n",
       "0          nucleus  G234273      cytoplasm        0\n",
       "1          nucleus  G234273      cytoplasm        0\n",
       "2          vacuole  G234273      cytoplasm        0\n",
       "3          vacuole  G234273      cytoplasm        0\n",
       "4          vacuole  G234273      cytoplasm        0\n",
       "5          nucleus  G234273      cytoplasm        0\n",
       "6          vacuole  G234273      cytoplasm        0\n",
       "7          nucleus  G234273      cytoplasm        0\n",
       "8  plasma membrane  G234490        nucleus        0\n",
       "9          nucleus  G234490        nucleus        1"
      ]
     },
     "execution_count": 497,
     "metadata": {},
     "output_type": "execute_result"
    }
   ],
   "source": [
    "results['Correct'] = np.where(results['Localization_p'] == results['Localization_a'], 1, 0)\n",
    "results.head(10)"
   ]
  },
  {
   "cell_type": "code",
   "execution_count": 507,
   "metadata": {},
   "outputs": [
    {
     "data": {
      "text/plain": [
       "0.2672672672672673"
      ]
     },
     "execution_count": 507,
     "metadata": {},
     "output_type": "execute_result"
    }
   ],
   "source": [
    "results.Correct.sum()/results.shape[0]"
   ]
  },
  {
   "cell_type": "markdown",
   "metadata": {},
   "source": [
    "The predictor was right 26.7% of the time. Not very good, but it's a start."
   ]
  }
 ],
 "metadata": {
  "kernelspec": {
   "display_name": "Python 3",
   "language": "python",
   "name": "python3"
  },
  "language_info": {
   "codemirror_mode": {
    "name": "ipython",
    "version": 3
   },
   "file_extension": ".py",
   "mimetype": "text/x-python",
   "name": "python",
   "nbconvert_exporter": "python",
   "pygments_lexer": "ipython3",
   "version": "3.7.0"
  }
 },
 "nbformat": 4,
 "nbformat_minor": 2
}
